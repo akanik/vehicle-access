{
 "cells": [
  {
   "cell_type": "code",
   "execution_count": 1,
   "metadata": {},
   "outputs": [],
   "source": [
    "import pandas as pd\n",
    "import numpy as np\n",
    "import glob\n",
    "import matplotlib.pyplot as plt\n",
    "\n",
    "pd.set_option('display.max_rows', None)\n",
    "pd.set_option('display.max_columns', None)\n",
    "pd.set_option('display.max_colwidth', 2000)"
   ]
  },
  {
   "cell_type": "markdown",
   "metadata": {},
   "source": [
    "This analysis based off of the analysis done here: https://sjpeterson.medium.com/transportation-lifestyles-lessons-for-the-future-from-2006-2019-2c4dc0851db4\n",
    "\n",
    "She establishes these 4 categories:\n",
    "- car-free households, \n",
    "- car-lite (or car-one) families, \n",
    "- singles with only one vehicle, \n",
    "- car-two+ households\n",
    "\n",
    "\"Car-lite households are families with only one vehicle. Singles with only one vehicle are part of the larger “car-oriented” category along with car-two+ households, defined as all households — singles and families — with two-or-more vehicles.\"\n",
    "\n",
    "So you can group these 4 categories into 3 actually:\n",
    "- car-free\n",
    "- car-lite\n",
    "- car-oriented\n",
    "\n",
    "### Some things the author notes about policy\n",
    "- Data dating back to 2006, however, allows a review of transportation lifestyles during and after the Great Recession. Although families with only one car have been on a precipitous decline of late, policy makers should pay close attention to this lifestyle type. We may be about to see a lot more of them. What types of transportation and neighborhood services support this lifestyle?\n",
    "- Policy makers should also recognize the special vulnerability of households — whether families or singles — with only one car. An economic or health catastrophe can leave them car-free in a car-oriented world.\n",
    "-  I use car-free because it puts up front what these households have: they are free from the costs of owning, maintaining, and parking a vehicle. However, the car-free status should not be romanticized. For certain people in certain places, it works well. In the vast majority of the United States, car-free living is the equivalent of an extreme sport. The “athlete” may be the mother taking three buses to get between home, day care, and her job. The “team” may be the group of family, friends, and home care workers driving daily to help keep an elderly person who no longer drives in their own home.\n",
    "- \n"
   ]
  },
  {
   "cell_type": "code",
   "execution_count": 31,
   "metadata": {},
   "outputs": [],
   "source": [
    "def linechart(df, x_dim, y_dim, xaxis, yaxis, title):\n",
    "    \n",
    "    fig, ax = plt.subplots(figsize=(15, 7))\n",
    "    if x_dim == 'index':\n",
    "        df[y_dim].plot(ax=ax, grid=True)\n",
    "    else:\n",
    "        df.set_index(x_dim)[y_dim].plot(ax=ax, grid=True)\n",
    "\n",
    "    #adds a title and axes labels\n",
    "    ax.set_title(title)\n",
    "    ax.set_xlabel(xaxis)\n",
    "    ax.set_ylabel(yaxis)\n",
    "    \n",
    "    #removing top and right borders\n",
    "    ax.spines['top'].set_visible(False)\n",
    "    ax.spines['right'].set_visible(False)\n",
    "    \n",
    "    plt.show()\n",
    "    \n",
    "def get_indexed_value(df,row,col):\n",
    "    msa = row['NAME']\n",
    "    msa_df = df.loc[df['NAME'] == msa]\n",
    "    start_val = msa_df.loc[msa_df['year'] == msa_df['year'].min()][col].values[0]\n",
    "    return (row[col]/start_val)*100\n",
    "\n",
    "def print_select_linechart(msa_name,var_list):\n",
    "    single_msa = hhsize_data.loc[hhsize_data['NAME'] == msa_name].sort_values('year',ascending=True)\n",
    "    linechart(single_msa, 'year', var_list, 'year', 'total households', 'Household growth in '+msa_name)"
   ]
  },
  {
   "cell_type": "markdown",
   "metadata": {},
   "source": [
    "# Household size by vehicle available"
   ]
  },
  {
   "cell_type": "code",
   "execution_count": 32,
   "metadata": {},
   "outputs": [
    {
     "name": "stdout",
     "output_type": "stream",
     "text": [
      "Working on ../data/productDownload_2020-12-08T141048/ACSDT1Y2019.B08201_data_with_overlays_2020-12-08T141032.csv\n",
      "Working on ../data/productDownload_2020-12-08T141048/ACSDT1Y2018.B08201_data_with_overlays_2020-12-08T141032.csv\n",
      "Working on ../data/productDownload_2020-12-08T141048/ACSDT1Y2010.B08201_data_with_overlays_2020-12-08T141032.csv\n",
      "Working on ../data/productDownload_2020-12-08T141048/ACSDT1Y2014.B08201_data_with_overlays_2020-12-08T141032.csv\n",
      "Working on ../data/productDownload_2020-12-08T141048/ACSDT1Y2015.B08201_data_with_overlays_2020-12-08T141032.csv\n",
      "Working on ../data/productDownload_2020-12-08T141048/ACSDT1Y2011.B08201_data_with_overlays_2020-12-08T141032.csv\n",
      "Working on ../data/productDownload_2020-12-08T141048/ACSDT1Y2016.B08201_data_with_overlays_2020-12-08T141032.csv\n",
      "Working on ../data/productDownload_2020-12-08T141048/ACSDT1Y2012.B08201_data_with_overlays_2020-12-08T141032.csv\n",
      "Working on ../data/productDownload_2020-12-08T141048/ACSDT1Y2013.B08201_data_with_overlays_2020-12-08T141032.csv\n",
      "Working on ../data/productDownload_2020-12-08T141048/ACSDT1Y2017.B08201_data_with_overlays_2020-12-08T141032.csv\n",
      "\n",
      "Unique MSAs included: 687\n"
     ]
    }
   ],
   "source": [
    "hhsize_dir = '../data/productDownload_2020-12-08T141048/'\n",
    "hhsize_meta = pd.read_csv('../data/productDownload_2020-12-08T141048/ACSDT1Y2010.B08201_metadata_2020-12-08T141032.csv')\n",
    "#hhsize_data = pd.read_csv('../data/productDownload_2020-12-08T141048/ACSDT1Y2010.B08201_data_with_overlays_2020-12-08T141032.csv')\n",
    "\n",
    "li = []\n",
    "for file in glob.glob(hhsize_dir+'ACSDT1Y'+'*.B08201_data_with_overlays_2020-12-08T141032.csv'):\n",
    "    print('Working on',file)\n",
    "    start_len = len(hhsize_dir+'ACSDT1Y')\n",
    "    year = file[start_len:start_len+4]\n",
    "    df = pd.read_csv(file, skiprows=[1])\n",
    "    df['year'] = int(year)\n",
    "    li.append(df)\n",
    "    \n",
    "hhsize_full = pd.concat(li, axis=0, ignore_index=True)\n",
    "\n",
    "#msa10 = hhsize_full['NAME'].isin(list(hhsize_full.loc[hhsize_full['year'] == 2010]['NAME'].unique()))\n",
    "#msa11 = hhsize_full['NAME'].isin(list(hhsize_full.loc[hhsize_full['year'] == 2011]['NAME'].unique()))\n",
    "#msa12 = hhsize_full['NAME'].isin(list(hhsize_full.loc[hhsize_full['year'] == 2012]['NAME'].unique()))\n",
    "#msa13 = hhsize_full['NAME'].isin(list(hhsize_full.loc[hhsize_full['year'] == 2013]['NAME'].unique()))\n",
    "#msa14 = hhsize_full['NAME'].isin(list(hhsize_full.loc[hhsize_full['year'] == 2014]['NAME'].unique()))\n",
    "#msa15 = hhsize_full['NAME'].isin(list(hhsize_full.loc[hhsize_full['year'] == 2015]['NAME'].unique()))\n",
    "#msa16 = hhsize_full['NAME'].isin(list(hhsize_full.loc[hhsize_full['year'] == 2016]['NAME'].unique()))\n",
    "#msa17 = hhsize_full['NAME'].isin(list(hhsize_full.loc[hhsize_full['year'] == 2017]['NAME'].unique()))\n",
    "#msa18 = hhsize_full['NAME'].isin(list(hhsize_full.loc[hhsize_full['year'] == 2018]['NAME'].unique()))\n",
    "#msa19 = hhsize_full['NAME'].isin(list(hhsize_full.loc[hhsize_full['year'] == 2019]['NAME'].unique()))\n",
    "#\n",
    "#hhsize_data = hhsize_full.loc[(msa10)&(msa11)&(msa12)&(msa13)&(msa14)&(msa15)&(msa16)&(msa17)&(msa18)&(msa19)]\n",
    "print('')\n",
    "print('Unique MSAs included:',len(hhsize_full.NAME.unique()))"
   ]
  },
  {
   "cell_type": "markdown",
   "metadata": {},
   "source": [
    "**B08201_001E** = Total households\n",
    "\n",
    "**B08201_002E** = Households with no vehicle available (car free)\n",
    "\n",
    "**B08201_003E** = Households with 1 vehicle available (undetermined classification)\n",
    "\n",
    "**B08201_004E** = Households with 2 vechicles available (car-oriented)\n",
    "\n",
    "**B08201_005E** = Households with 3 vechicles available (car-oriented)\n",
    "\n",
    "**B08201_006E** = Households with 4+ vechicles available (car-oriented)\n",
    "\n",
    "\\*Need to combine B08201_004E + B08201_005E + B08201_006E for \"car-oriented living\" category\n",
    "\n",
    "\n",
    "**B08201_007E** = 1-person households\n",
    "\n",
    "**B08201_008E** = 1-person households, no vehicle (car-free)\n",
    "\n",
    "**B08201_009E** = 1-person households, 1 vehicle (car-oriented)\n",
    "\n",
    "**B08201_010E** = 1-person households, 2 vehicle (car-oriented)\n",
    "\n",
    "**B08201_011E** = 1-person households, 3 vehicle (car-oriented)\n",
    "\n",
    "**B08201_012E** = 1-person households, 4+ vehicle (car-oriented)\n",
    "\n",
    "\\*Need to combine B08201_010E + B08201_011E + B08201_012E for \"car-oriented living\" category\n",
    "\n",
    "\n",
    "**B08201_013E + B08201_019E + B08201_025E** = 2+ family households\n",
    "\n",
    "**B08201_014E + B08201_020E + B08201_026E** = 2+ family households, no vehicle (car-free)\n",
    "\n",
    "**B08201_015E + B08201_021E + B08201_027E** = 2+ family households, 1 vehicle (car-lite)\n",
    "\n",
    "**(B08201_016E + B08201_017E + B08201_018E) + (B08201_022E + B08201_023E + B08201_024E) + (B08201_028E + B08201_029E + B08201_030E)** = 2+ family household, 2+ vehicles (car-oriented)"
   ]
  },
  {
   "cell_type": "code",
   "execution_count": 33,
   "metadata": {},
   "outputs": [
    {
     "ename": "TypeError",
     "evalue": "get_indexed_value() missing 1 required positional argument: 'year'",
     "output_type": "error",
     "traceback": [
      "\u001b[0;31m---------------------------------------------------------------------------\u001b[0m",
      "\u001b[0;31mTypeError\u001b[0m                                 Traceback (most recent call last)",
      "\u001b[0;32m<ipython-input-33-ba457a4987bb>\u001b[0m in \u001b[0;36m<module>\u001b[0;34m\u001b[0m\n\u001b[1;32m     29\u001b[0m \u001b[0mhhsize_data\u001b[0m\u001b[0;34m[\u001b[0m\u001b[0;34m'car_oriented'\u001b[0m\u001b[0;34m]\u001b[0m \u001b[0;34m=\u001b[0m \u001b[0mhhsize_data\u001b[0m\u001b[0;34m[\u001b[0m\u001b[0;34m'single_hh_one'\u001b[0m\u001b[0;34m]\u001b[0m \u001b[0;34m+\u001b[0m \u001b[0mhhsize_data\u001b[0m\u001b[0;34m[\u001b[0m\u001b[0;34m'single_hh_2more'\u001b[0m\u001b[0;34m]\u001b[0m \u001b[0;34m+\u001b[0m \u001b[0mhhsize_data\u001b[0m\u001b[0;34m[\u001b[0m\u001b[0;34m'multi_hh_2more'\u001b[0m\u001b[0;34m]\u001b[0m\u001b[0;34m\u001b[0m\u001b[0;34m\u001b[0m\u001b[0m\n\u001b[1;32m     30\u001b[0m \u001b[0;34m\u001b[0m\u001b[0m\n\u001b[0;32m---> 31\u001b[0;31m \u001b[0mhhsize_data\u001b[0m\u001b[0;34m[\u001b[0m\u001b[0;34m'total_hh_indexed'\u001b[0m\u001b[0;34m]\u001b[0m \u001b[0;34m=\u001b[0m \u001b[0mhhsize_data\u001b[0m\u001b[0;34m.\u001b[0m\u001b[0mapply\u001b[0m\u001b[0;34m(\u001b[0m\u001b[0;32mlambda\u001b[0m \u001b[0mx\u001b[0m\u001b[0;34m:\u001b[0m \u001b[0mget_indexed_value\u001b[0m\u001b[0;34m(\u001b[0m\u001b[0mhhsize_data\u001b[0m\u001b[0;34m,\u001b[0m\u001b[0mx\u001b[0m\u001b[0;34m,\u001b[0m\u001b[0;34m'total_hh'\u001b[0m\u001b[0;34m)\u001b[0m\u001b[0;34m,\u001b[0m \u001b[0maxis\u001b[0m\u001b[0;34m=\u001b[0m\u001b[0;36m1\u001b[0m\u001b[0;34m)\u001b[0m\u001b[0;34m\u001b[0m\u001b[0;34m\u001b[0m\u001b[0m\n\u001b[0m\u001b[1;32m     32\u001b[0m \u001b[0mhhsize_data\u001b[0m\u001b[0;34m[\u001b[0m\u001b[0;34m'car_free_i'\u001b[0m\u001b[0;34m]\u001b[0m \u001b[0;34m=\u001b[0m \u001b[0mhhsize_data\u001b[0m\u001b[0;34m.\u001b[0m\u001b[0mapply\u001b[0m\u001b[0;34m(\u001b[0m\u001b[0;32mlambda\u001b[0m \u001b[0mx\u001b[0m\u001b[0;34m:\u001b[0m \u001b[0mget_indexed_value\u001b[0m\u001b[0;34m(\u001b[0m\u001b[0mhhsize_data\u001b[0m\u001b[0;34m,\u001b[0m\u001b[0mx\u001b[0m\u001b[0;34m,\u001b[0m\u001b[0;34m'car_free'\u001b[0m\u001b[0;34m)\u001b[0m\u001b[0;34m,\u001b[0m \u001b[0maxis\u001b[0m\u001b[0;34m=\u001b[0m\u001b[0;36m1\u001b[0m\u001b[0;34m)\u001b[0m\u001b[0;34m\u001b[0m\u001b[0;34m\u001b[0m\u001b[0m\n\u001b[1;32m     33\u001b[0m \u001b[0mhhsize_data\u001b[0m\u001b[0;34m[\u001b[0m\u001b[0;34m'car_one_families_i'\u001b[0m\u001b[0;34m]\u001b[0m \u001b[0;34m=\u001b[0m \u001b[0mhhsize_data\u001b[0m\u001b[0;34m.\u001b[0m\u001b[0mapply\u001b[0m\u001b[0;34m(\u001b[0m\u001b[0;32mlambda\u001b[0m \u001b[0mx\u001b[0m\u001b[0;34m:\u001b[0m \u001b[0mget_indexed_value\u001b[0m\u001b[0;34m(\u001b[0m\u001b[0mhhsize_data\u001b[0m\u001b[0;34m,\u001b[0m\u001b[0mx\u001b[0m\u001b[0;34m,\u001b[0m\u001b[0;34m'car_one_families'\u001b[0m\u001b[0;34m)\u001b[0m\u001b[0;34m,\u001b[0m \u001b[0maxis\u001b[0m\u001b[0;34m=\u001b[0m\u001b[0;36m1\u001b[0m\u001b[0;34m)\u001b[0m\u001b[0;34m\u001b[0m\u001b[0;34m\u001b[0m\u001b[0m\n",
      "\u001b[0;32m~/.local/share/virtualenvs/car-free-cities-Oj_SXpK8/lib/python3.8/site-packages/pandas/core/frame.py\u001b[0m in \u001b[0;36mapply\u001b[0;34m(self, func, axis, raw, result_type, args, **kwds)\u001b[0m\n\u001b[1;32m   7550\u001b[0m             \u001b[0mkwds\u001b[0m\u001b[0;34m=\u001b[0m\u001b[0mkwds\u001b[0m\u001b[0;34m,\u001b[0m\u001b[0;34m\u001b[0m\u001b[0;34m\u001b[0m\u001b[0m\n\u001b[1;32m   7551\u001b[0m         )\n\u001b[0;32m-> 7552\u001b[0;31m         \u001b[0;32mreturn\u001b[0m \u001b[0mop\u001b[0m\u001b[0;34m.\u001b[0m\u001b[0mget_result\u001b[0m\u001b[0;34m(\u001b[0m\u001b[0;34m)\u001b[0m\u001b[0;34m\u001b[0m\u001b[0;34m\u001b[0m\u001b[0m\n\u001b[0m\u001b[1;32m   7553\u001b[0m \u001b[0;34m\u001b[0m\u001b[0m\n\u001b[1;32m   7554\u001b[0m     \u001b[0;32mdef\u001b[0m \u001b[0mapplymap\u001b[0m\u001b[0;34m(\u001b[0m\u001b[0mself\u001b[0m\u001b[0;34m,\u001b[0m \u001b[0mfunc\u001b[0m\u001b[0;34m)\u001b[0m \u001b[0;34m->\u001b[0m \u001b[0;34m\"DataFrame\"\u001b[0m\u001b[0;34m:\u001b[0m\u001b[0;34m\u001b[0m\u001b[0;34m\u001b[0m\u001b[0m\n",
      "\u001b[0;32m~/.local/share/virtualenvs/car-free-cities-Oj_SXpK8/lib/python3.8/site-packages/pandas/core/apply.py\u001b[0m in \u001b[0;36mget_result\u001b[0;34m(self)\u001b[0m\n\u001b[1;32m    183\u001b[0m             \u001b[0;32mreturn\u001b[0m \u001b[0mself\u001b[0m\u001b[0;34m.\u001b[0m\u001b[0mapply_raw\u001b[0m\u001b[0;34m(\u001b[0m\u001b[0;34m)\u001b[0m\u001b[0;34m\u001b[0m\u001b[0;34m\u001b[0m\u001b[0m\n\u001b[1;32m    184\u001b[0m \u001b[0;34m\u001b[0m\u001b[0m\n\u001b[0;32m--> 185\u001b[0;31m         \u001b[0;32mreturn\u001b[0m \u001b[0mself\u001b[0m\u001b[0;34m.\u001b[0m\u001b[0mapply_standard\u001b[0m\u001b[0;34m(\u001b[0m\u001b[0;34m)\u001b[0m\u001b[0;34m\u001b[0m\u001b[0;34m\u001b[0m\u001b[0m\n\u001b[0m\u001b[1;32m    186\u001b[0m \u001b[0;34m\u001b[0m\u001b[0m\n\u001b[1;32m    187\u001b[0m     \u001b[0;32mdef\u001b[0m \u001b[0mapply_empty_result\u001b[0m\u001b[0;34m(\u001b[0m\u001b[0mself\u001b[0m\u001b[0;34m)\u001b[0m\u001b[0;34m:\u001b[0m\u001b[0;34m\u001b[0m\u001b[0;34m\u001b[0m\u001b[0m\n",
      "\u001b[0;32m~/.local/share/virtualenvs/car-free-cities-Oj_SXpK8/lib/python3.8/site-packages/pandas/core/apply.py\u001b[0m in \u001b[0;36mapply_standard\u001b[0;34m(self)\u001b[0m\n\u001b[1;32m    274\u001b[0m \u001b[0;34m\u001b[0m\u001b[0m\n\u001b[1;32m    275\u001b[0m     \u001b[0;32mdef\u001b[0m \u001b[0mapply_standard\u001b[0m\u001b[0;34m(\u001b[0m\u001b[0mself\u001b[0m\u001b[0;34m)\u001b[0m\u001b[0;34m:\u001b[0m\u001b[0;34m\u001b[0m\u001b[0;34m\u001b[0m\u001b[0m\n\u001b[0;32m--> 276\u001b[0;31m         \u001b[0mresults\u001b[0m\u001b[0;34m,\u001b[0m \u001b[0mres_index\u001b[0m \u001b[0;34m=\u001b[0m \u001b[0mself\u001b[0m\u001b[0;34m.\u001b[0m\u001b[0mapply_series_generator\u001b[0m\u001b[0;34m(\u001b[0m\u001b[0;34m)\u001b[0m\u001b[0;34m\u001b[0m\u001b[0;34m\u001b[0m\u001b[0m\n\u001b[0m\u001b[1;32m    277\u001b[0m \u001b[0;34m\u001b[0m\u001b[0m\n\u001b[1;32m    278\u001b[0m         \u001b[0;31m# wrap results\u001b[0m\u001b[0;34m\u001b[0m\u001b[0;34m\u001b[0m\u001b[0;34m\u001b[0m\u001b[0m\n",
      "\u001b[0;32m~/.local/share/virtualenvs/car-free-cities-Oj_SXpK8/lib/python3.8/site-packages/pandas/core/apply.py\u001b[0m in \u001b[0;36mapply_series_generator\u001b[0;34m(self)\u001b[0m\n\u001b[1;32m    303\u001b[0m                 \u001b[0;32mfor\u001b[0m \u001b[0mi\u001b[0m\u001b[0;34m,\u001b[0m \u001b[0mv\u001b[0m \u001b[0;32min\u001b[0m \u001b[0menumerate\u001b[0m\u001b[0;34m(\u001b[0m\u001b[0mseries_gen\u001b[0m\u001b[0;34m)\u001b[0m\u001b[0;34m:\u001b[0m\u001b[0;34m\u001b[0m\u001b[0;34m\u001b[0m\u001b[0m\n\u001b[1;32m    304\u001b[0m                     \u001b[0;31m# ignore SettingWithCopy here in case the user mutates\u001b[0m\u001b[0;34m\u001b[0m\u001b[0;34m\u001b[0m\u001b[0;34m\u001b[0m\u001b[0m\n\u001b[0;32m--> 305\u001b[0;31m                     \u001b[0mresults\u001b[0m\u001b[0;34m[\u001b[0m\u001b[0mi\u001b[0m\u001b[0;34m]\u001b[0m \u001b[0;34m=\u001b[0m \u001b[0mself\u001b[0m\u001b[0;34m.\u001b[0m\u001b[0mf\u001b[0m\u001b[0;34m(\u001b[0m\u001b[0mv\u001b[0m\u001b[0;34m)\u001b[0m\u001b[0;34m\u001b[0m\u001b[0;34m\u001b[0m\u001b[0m\n\u001b[0m\u001b[1;32m    306\u001b[0m                     \u001b[0;32mif\u001b[0m \u001b[0misinstance\u001b[0m\u001b[0;34m(\u001b[0m\u001b[0mresults\u001b[0m\u001b[0;34m[\u001b[0m\u001b[0mi\u001b[0m\u001b[0;34m]\u001b[0m\u001b[0;34m,\u001b[0m \u001b[0mABCSeries\u001b[0m\u001b[0;34m)\u001b[0m\u001b[0;34m:\u001b[0m\u001b[0;34m\u001b[0m\u001b[0;34m\u001b[0m\u001b[0m\n\u001b[1;32m    307\u001b[0m                         \u001b[0;31m# If we have a view on v, we need to make a copy because\u001b[0m\u001b[0;34m\u001b[0m\u001b[0;34m\u001b[0m\u001b[0;34m\u001b[0m\u001b[0m\n",
      "\u001b[0;32m<ipython-input-33-ba457a4987bb>\u001b[0m in \u001b[0;36m<lambda>\u001b[0;34m(x)\u001b[0m\n\u001b[1;32m     29\u001b[0m \u001b[0mhhsize_data\u001b[0m\u001b[0;34m[\u001b[0m\u001b[0;34m'car_oriented'\u001b[0m\u001b[0;34m]\u001b[0m \u001b[0;34m=\u001b[0m \u001b[0mhhsize_data\u001b[0m\u001b[0;34m[\u001b[0m\u001b[0;34m'single_hh_one'\u001b[0m\u001b[0;34m]\u001b[0m \u001b[0;34m+\u001b[0m \u001b[0mhhsize_data\u001b[0m\u001b[0;34m[\u001b[0m\u001b[0;34m'single_hh_2more'\u001b[0m\u001b[0;34m]\u001b[0m \u001b[0;34m+\u001b[0m \u001b[0mhhsize_data\u001b[0m\u001b[0;34m[\u001b[0m\u001b[0;34m'multi_hh_2more'\u001b[0m\u001b[0;34m]\u001b[0m\u001b[0;34m\u001b[0m\u001b[0;34m\u001b[0m\u001b[0m\n\u001b[1;32m     30\u001b[0m \u001b[0;34m\u001b[0m\u001b[0m\n\u001b[0;32m---> 31\u001b[0;31m \u001b[0mhhsize_data\u001b[0m\u001b[0;34m[\u001b[0m\u001b[0;34m'total_hh_indexed'\u001b[0m\u001b[0;34m]\u001b[0m \u001b[0;34m=\u001b[0m \u001b[0mhhsize_data\u001b[0m\u001b[0;34m.\u001b[0m\u001b[0mapply\u001b[0m\u001b[0;34m(\u001b[0m\u001b[0;32mlambda\u001b[0m \u001b[0mx\u001b[0m\u001b[0;34m:\u001b[0m \u001b[0mget_indexed_value\u001b[0m\u001b[0;34m(\u001b[0m\u001b[0mhhsize_data\u001b[0m\u001b[0;34m,\u001b[0m\u001b[0mx\u001b[0m\u001b[0;34m,\u001b[0m\u001b[0;34m'total_hh'\u001b[0m\u001b[0;34m)\u001b[0m\u001b[0;34m,\u001b[0m \u001b[0maxis\u001b[0m\u001b[0;34m=\u001b[0m\u001b[0;36m1\u001b[0m\u001b[0;34m)\u001b[0m\u001b[0;34m\u001b[0m\u001b[0;34m\u001b[0m\u001b[0m\n\u001b[0m\u001b[1;32m     32\u001b[0m \u001b[0mhhsize_data\u001b[0m\u001b[0;34m[\u001b[0m\u001b[0;34m'car_free_i'\u001b[0m\u001b[0;34m]\u001b[0m \u001b[0;34m=\u001b[0m \u001b[0mhhsize_data\u001b[0m\u001b[0;34m.\u001b[0m\u001b[0mapply\u001b[0m\u001b[0;34m(\u001b[0m\u001b[0;32mlambda\u001b[0m \u001b[0mx\u001b[0m\u001b[0;34m:\u001b[0m \u001b[0mget_indexed_value\u001b[0m\u001b[0;34m(\u001b[0m\u001b[0mhhsize_data\u001b[0m\u001b[0;34m,\u001b[0m\u001b[0mx\u001b[0m\u001b[0;34m,\u001b[0m\u001b[0;34m'car_free'\u001b[0m\u001b[0;34m)\u001b[0m\u001b[0;34m,\u001b[0m \u001b[0maxis\u001b[0m\u001b[0;34m=\u001b[0m\u001b[0;36m1\u001b[0m\u001b[0;34m)\u001b[0m\u001b[0;34m\u001b[0m\u001b[0;34m\u001b[0m\u001b[0m\n\u001b[1;32m     33\u001b[0m \u001b[0mhhsize_data\u001b[0m\u001b[0;34m[\u001b[0m\u001b[0;34m'car_one_families_i'\u001b[0m\u001b[0;34m]\u001b[0m \u001b[0;34m=\u001b[0m \u001b[0mhhsize_data\u001b[0m\u001b[0;34m.\u001b[0m\u001b[0mapply\u001b[0m\u001b[0;34m(\u001b[0m\u001b[0;32mlambda\u001b[0m \u001b[0mx\u001b[0m\u001b[0;34m:\u001b[0m \u001b[0mget_indexed_value\u001b[0m\u001b[0;34m(\u001b[0m\u001b[0mhhsize_data\u001b[0m\u001b[0;34m,\u001b[0m\u001b[0mx\u001b[0m\u001b[0;34m,\u001b[0m\u001b[0;34m'car_one_families'\u001b[0m\u001b[0;34m)\u001b[0m\u001b[0;34m,\u001b[0m \u001b[0maxis\u001b[0m\u001b[0;34m=\u001b[0m\u001b[0;36m1\u001b[0m\u001b[0;34m)\u001b[0m\u001b[0;34m\u001b[0m\u001b[0;34m\u001b[0m\u001b[0m\n",
      "\u001b[0;31mTypeError\u001b[0m: get_indexed_value() missing 1 required positional argument: 'year'"
     ]
    }
   ],
   "source": [
    "hhsize_data = hhsize_full\n",
    "\n",
    "rename_cols = {'B08201_001E':'total_hh','B08201_002E':'total_hh_carfree','B08201_003E':'total_hh_one',\n",
    "              'B08201_007E':'single_hh','B08201_008E':'single_hh_carfree','B08201_009E':'single_hh_one'}\n",
    "\n",
    "hhsize_data['total_hh_2more'] = hhsize_data['B08201_004E'] + hhsize_data['B08201_005E'] + hhsize_data['B08201_006E']\n",
    "hhsize_data['single_hh_2more'] = hhsize_data['B08201_010E'] + hhsize_data['B08201_011E'] + hhsize_data['B08201_012E']\n",
    "hhsize_data['multi_hh'] = hhsize_data['B08201_013E'] + hhsize_data['B08201_019E'] + hhsize_data['B08201_025E']\n",
    "hhsize_data['multi_hh_carfree'] = hhsize_data['B08201_014E'] + hhsize_data['B08201_020E'] + hhsize_data['B08201_026E']\n",
    "hhsize_data['multi_hh_one'] = hhsize_data['B08201_015E'] + hhsize_data['B08201_021E'] + hhsize_data['B08201_027E']\n",
    "hhsize_data['multi_hh_2more'] = (hhsize_data['B08201_016E'] + hhsize_data['B08201_017E'] + hhsize_data['B08201_018E']) + \\\n",
    "                                (hhsize_data['B08201_022E'] + hhsize_data['B08201_023E'] + hhsize_data['B08201_024E']) + \\\n",
    "                                (hhsize_data['B08201_028E'] + hhsize_data['B08201_029E'] + hhsize_data['B08201_030E'])\n",
    "\n",
    "hhsize_data.rename(columns=rename_cols, inplace=True)\n",
    "\n",
    "keep_cols = ['GEO_ID','NAME','year',\n",
    "             'total_hh','total_hh_carfree','total_hh_one','total_hh_2more',\n",
    "             'single_hh','single_hh_carfree','single_hh_one','single_hh_2more',\n",
    "            'multi_hh','multi_hh_carfree','multi_hh_one','multi_hh_2more']\n",
    "\n",
    "hhsize_data = hhsize_data[keep_cols]\n",
    "hhsize_data = hhsize_data.loc[hhsize_data['NAME'].str.contains('Metro Area')]\n",
    "\n",
    "hhsize_data['car_free'] = hhsize_data['total_hh_carfree'] + hhsize_data['single_hh_carfree'] + hhsize_data['multi_hh_carfree']\n",
    "hhsize_data['car_one_families'] = hhsize_data['multi_hh_one']#this is car-lite\n",
    "hhsize_data['car_one_singles'] = hhsize_data['single_hh_one']\n",
    "hhsize_data['car_two_plus'] = hhsize_data['single_hh_2more'] + hhsize_data['multi_hh_2more']\n",
    "hhsize_data['car_oriented'] = hhsize_data['single_hh_one'] + hhsize_data['single_hh_2more'] + hhsize_data['multi_hh_2more']\n",
    "\n",
    "hhsize_data['total_hh_indexed'] = hhsize_data.apply(lambda x: get_indexed_value(hhsize_data,x,'total_hh'), axis=1)\n",
    "hhsize_data['car_free_i'] = hhsize_data.apply(lambda x: get_indexed_value(hhsize_data,x,'car_free'), axis=1)\n",
    "hhsize_data['car_one_families_i'] = hhsize_data.apply(lambda x: get_indexed_value(hhsize_data,x,'car_one_families'), axis=1)\n",
    "hhsize_data['car_one_singles_i'] = hhsize_data.apply(lambda x: get_indexed_value(hhsize_data,x,'car_one_singles'), axis=1)\n",
    "hhsize_data['car_two_plus_i'] = hhsize_data.apply(lambda x: get_indexed_value(hhsize_data,x,'car_two_plus'), axis=1)\n",
    "hhsize_data['car_oriented_i'] = hhsize_data.apply(lambda x: get_indexed_value(hhsize_data,x,'car_oriented'), axis=1)\n",
    "\n",
    "hhsize_min = hhsize_data.sort_values(['NAME','year'])[['GEO_ID','NAME','year','total_hh_indexed','car_free_i','car_one_families_i','car_one_singles_i','car_two_plus_i']]"
   ]
  },
  {
   "cell_type": "markdown",
   "metadata": {},
   "source": [
    "### Increases in families with only one car\n",
    "Below are the MSAs where family households with a single vehicle or no vehicle have risen, and households with two+ vehicles have fallen since 2010."
   ]
  },
  {
   "cell_type": "code",
   "execution_count": null,
   "metadata": {},
   "outputs": [],
   "source": [
    "hhsize_min_2019 = hhsize_min.loc[hhsize_min['year'] == 2019]\n",
    "car_dep_decrease = hhsize_min_2019.loc[(hhsize_min_2019['car_one_families_i']>100)&(hhsize_min_2019['car_free_i']>100)&(hhsize_min_2019['car_two_plus_i']<100)]\n",
    "\n",
    "print(len(car_dep_decrease))\n",
    "display(car_dep_decrease.sort_values('car_one_families_i', ascending=False))"
   ]
  },
  {
   "cell_type": "markdown",
   "metadata": {},
   "source": [
    "Same criteria, but instead of comparing just using one year (2019), we're taking an average of the last 3 years."
   ]
  },
  {
   "cell_type": "code",
   "execution_count": null,
   "metadata": {},
   "outputs": [],
   "source": [
    "hhsize_min_3yr = hhsize_min.loc[hhsize_min['year'].isin([2017,2018,2019])].groupby('NAME').agg('mean').reset_index()\n",
    "hhsize_min_3yr = hhsize_min_3yr[['NAME','total_hh_indexed', 'car_free_i', 'car_one_families_i',\n",
    "                                 'car_one_singles_i', 'car_two_plus_i']]\n",
    "\n",
    "car_dep_dcrs_3yr = hhsize_min_3yr.loc[(hhsize_min_3yr['car_one_families_i']>100)&(hhsize_min_3yr['car_free_i']>100)&(hhsize_min_3yr['car_two_plus_i']<100)]\n",
    "\n",
    "print(len(car_dep_dcrs_3yr))\n",
    "display(car_dep_dcrs_3yr.sort_values('car_one_families_i', ascending=False))"
   ]
  },
  {
   "cell_type": "code",
   "execution_count": null,
   "metadata": {},
   "outputs": [],
   "source": [
    "var_list = ['total_hh_indexed','car_free_i','car_one_families_i','car_one_singles_i','car_two_plus_i']\n",
    "\n",
    "car_dep_dcrs_3yr_msa_list = list(car_dep_dcrs_3yr.NAME.unique())\n",
    "\n",
    "for msa in car_dep_dcrs_3yr_msa_list:\n",
    "    print_select_linechart(msa,var_list)"
   ]
  },
  {
   "cell_type": "markdown",
   "metadata": {},
   "source": [
    "### Top 20 most populous MSAs\n",
    "What do the top 20 most populous MSAs look like?"
   ]
  },
  {
   "cell_type": "code",
   "execution_count": null,
   "metadata": {},
   "outputs": [],
   "source": [
    "hhsize_min.loc[hhsize_min['NAME'].str.contains('Angeles')]"
   ]
  },
  {
   "cell_type": "code",
   "execution_count": null,
   "metadata": {},
   "outputs": [],
   "source": [
    "most_pop = ['New York-Newark-Jersey City, NY-NJ-PA',\n",
    "             'Los Angeles-Long Beach-Anaheim, CA',\n",
    "             'Chicago-Naperville-Elgin, IL-IN-WI',\n",
    "             'Dallas-Fort Worth-Arlington, TX',\n",
    "             'Houston-The Woodlands-Sugar Land, TX',\n",
    "             'Washington-Arlington-Alexandria, DC-VA-MD-WV',\n",
    "             'Miami-Fort Lauderdale-Pompano Beach, FL',\n",
    "             'Philadelphia-Camden-Wilmington, PA-NJ-DE-MD',\n",
    "             'Atlanta-Sandy Springs-Alpharetta, GA',\n",
    "             'Phoenix-Mesa-Chandler, AZ',\n",
    "             'Boston-Cambridge-Newton, MA-NH',\n",
    "             'San Francisco-Oakland-Berkeley, CA',\n",
    "             'Riverside-San Bernardino-Ontario, CA',\n",
    "             'Detroit-Warren-Dearborn, MI',\n",
    "             'Seattle-Tacoma-Bellevue, WA',\n",
    "             'Minneapolis-St. Paul-Bloomington, MN-WI',\n",
    "             'San Diego-Chula Vista-Carlsbad, CA',\n",
    "             'Tampa-St. Petersburg-Clearwater, FL',\n",
    "             'Denver-Aurora-Lakewood, CO',\n",
    "             'St. Louis, MO-IL']\n",
    "\n",
    "var_list = ['total_hh_indexed','car_free_i','car_one_families_i','car_one_singles_i','car_two_plus_i']\n",
    "\n",
    "for msa in most_pop:\n",
    "    print_select_linechart(msa+' Metro Area',var_list)"
   ]
  },
  {
   "cell_type": "markdown",
   "metadata": {},
   "source": [
    "-----------"
   ]
  },
  {
   "cell_type": "code",
   "execution_count": null,
   "metadata": {},
   "outputs": [],
   "source": [
    "var_list = ['total_hh_indexed','car_free_i','car_one_families_i','car_one_singles_i','car_two_plus_i']\n",
    "\n",
    "all_metro = hhsize_data.loc[hhsize_data['NAME'].str.contains('Metro Area')]\n",
    "all_msas = list(all_metro.NAME.unique())\n",
    "\n",
    "for msa in all_msas:\n",
    "    print_select_linechart(msa,var_list)"
   ]
  },
  {
   "cell_type": "markdown",
   "metadata": {},
   "source": [
    "# Household age, tenure by vehicle available"
   ]
  },
  {
   "cell_type": "code",
   "execution_count": null,
   "metadata": {},
   "outputs": [],
   "source": [
    "tenure_dir = '../data/productDownload_2020-12-08T161716/'\n",
    "age_tenure_meta = pd.read_csv(tenure_dir + 'ACSDT1Y2010.B25045_metadata_2020-12-08T161706.csv')\n",
    "#age_tenure_data = pd.read_csv(tenure_dir + 'ACSDT1Y2010.B25045_data_with_overlays_2020-12-08T161706.csv')\n",
    "\n",
    "li = []\n",
    "for file in glob.glob(tenure_dir+'ACSDT1Y'+'*.B25045_data_with_overlays_2020-12-08T161706.csv'):\n",
    "    print('Working on',file)\n",
    "    start_len = len(tenure_dir+'ACSDT1Y')\n",
    "    year = file[start_len:start_len+4]\n",
    "    df = pd.read_csv(file)\n",
    "    df['year'] = year\n",
    "    li.append(df)\n",
    "    \n",
    "age_tenure_data = pd.concat(li, axis=0, ignore_index=True)"
   ]
  },
  {
   "cell_type": "code",
   "execution_count": null,
   "metadata": {},
   "outputs": [],
   "source": [
    "age_tenure_data.head()"
   ]
  },
  {
   "cell_type": "code",
   "execution_count": null,
   "metadata": {},
   "outputs": [],
   "source": []
  }
 ],
 "metadata": {
  "kernelspec": {
   "display_name": "Python 3",
   "language": "python",
   "name": "python3"
  },
  "language_info": {
   "codemirror_mode": {
    "name": "ipython",
    "version": 3
   },
   "file_extension": ".py",
   "mimetype": "text/x-python",
   "name": "python",
   "nbconvert_exporter": "python",
   "pygments_lexer": "ipython3",
   "version": "3.8.2"
  }
 },
 "nbformat": 4,
 "nbformat_minor": 4
}
